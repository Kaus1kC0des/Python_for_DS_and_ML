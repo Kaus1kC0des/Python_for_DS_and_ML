{
 "cells": [
  {
   "cell_type": "code",
   "execution_count": 1,
   "id": "8f1ff015",
   "metadata": {},
   "outputs": [],
   "source": [
    "import numpy as np"
   ]
  },
  {
   "cell_type": "markdown",
   "id": "03312749",
   "metadata": {},
   "source": [
    "# Array functions in NumPy\n",
    "\n",
    "\n",
    "1) np.arange(start,stop,step) ---> creates an 1D array of the elements specified from start to stop. Similar to range.\n",
    "\n",
    "2) np.zeros(x) ---> Will create a 1D array consisting only of 0s\n",
    "\n",
    "np.zeros((x,y)) ---> Will create a 2D array of x rows and y columns.\n",
    "\n",
    "3) np.ones() ---> Similar to zeroes.\n",
    "\n",
    "4) np.linspace(start,stop,num) ---> Will create an array of elements starting from start to stop evenly divided into num points. Will return decimal values, unlike arange which will return whole numbers.\n",
    "\n",
    "5) np.eye(dim) ---> Will create a 2D identity matrix (I) of the size dim\n",
    "\n",
    "6) np.random.rand(a) ---> Will create an array of random elements ranging between 0 and 1.\n",
    "np.random.rand((a,b)) ---> Will create an 2D array of random elements ranging between 0 and 1, with a rows and b columns.\n",
    "#### NOTE: This will return values from a standard distribution\n",
    "\n",
    "\n",
    "7) np.random.randn() ---> Same as np.random.rand() but will create a Gaussian distribution.\n",
    "\n",
    "##### NOTE: The main difference between a uniform distribution and a Gaussian (also known as a normal) distribution is in the way that values are distributed within the distribution.\n",
    "\n",
    "A uniform distribution is characterized by an equal probability of each value within a certain range occurring. For example, if we consider a die with six sides, each side has an equal probability of 1/6 of showing up after the die is rolled. The probability density function (PDF) of a uniform distribution is constant across the entire range of possible values.\n",
    "\n",
    "In contrast, a Gaussian distribution is characterized by a bell-shaped curve that is symmetric around the mean value. The probability density function of a Gaussian distribution is highest at the mean value and decreases as we move away from the mean value. Many natural phenomena, such as heights or weights of a population, tend to follow a Gaussian distribution.\n",
    "\n",
    "Another important difference between the two distributions is their variance. The variance of a uniform distribution is (b-a)^2/12, where a is the minimum value in the range and b is the maximum value in the range. In contrast, the variance of a Gaussian distribution is a measure of how spread out the values are around the mean value.\n",
    "\n",
    "In summary, a uniform distribution is characterized by a constant probability of each value within a certain range occurring, while a Gaussian distribution is characterized by a bell-shaped curve that is symmetric around the mean value, with values more likely to occur near the mean value.\n",
    "\n",
    "##### NOTE ENDS\n",
    "\n",
    "8) np.random.randint(low,high,n) ---> Will generate n random numbers (whole numbers) from low to high.\n",
    "\n",
    "9) np.reshape(row,col) ---> Will reshape an existing array into the specified dimensions.\n",
    "\n",
    "### Array Methods:\n",
    "\n",
    "1) arr.min()\n",
    "2) arr.max()\n",
    "3) arr.argmax() ---> Will return the index position of the max element.\n",
    "4) arr.argmin() ---> Will return the index position of the min element.\n",
    "5) arr.shape() ---> Returns the shape of the array.\n",
    "6) arr.dtype() ---> Returns the data type of the elements in the array."
   ]
  },
  {
   "cell_type": "code",
   "execution_count": null,
   "id": "0fa13ee2",
   "metadata": {},
   "outputs": [],
   "source": []
  },
  {
   "cell_type": "markdown",
   "id": "19d0025c",
   "metadata": {},
   "source": [
    "## 1) np.arange()\n",
    "\n",
    "np.arange(start,stop,step) ---> creates an 1D array of the elements specified from start to stop. Similar to range."
   ]
  },
  {
   "cell_type": "code",
   "execution_count": 2,
   "id": "d3cfd2de",
   "metadata": {
    "scrolled": true
   },
   "outputs": [
    {
     "name": "stdout",
     "output_type": "stream",
     "text": [
      "[ 1  2  3  4  5  6  7  8  9 10 11]\n"
     ]
    }
   ],
   "source": [
    "arange = np.arange(1,12)\n",
    "print(arange)"
   ]
  },
  {
   "cell_type": "markdown",
   "id": "c0851771",
   "metadata": {},
   "source": [
    "## 2) np.zeros()\n",
    "\n",
    "np.zeros(x) ---> Will create a 1D array consisting only of 0s\n",
    "np.zeros((x,y)) ---> Will create a 2D array of x rows and y columns."
   ]
  },
  {
   "cell_type": "code",
   "execution_count": 8,
   "id": "11e84366",
   "metadata": {},
   "outputs": [
    {
     "name": "stdout",
     "output_type": "stream",
     "text": [
      "[0. 0. 0. 0. 0. 0. 0. 0. 0. 0. 0. 0. 0. 0. 0. 0. 0. 0. 0. 0. 0. 0. 0.]\n",
      "\n",
      "[[0. 0. 0. 0. 0.]\n",
      " [0. 0. 0. 0. 0.]]\n"
     ]
    }
   ],
   "source": [
    "zeros1d = np.zeros(23)\n",
    "zeros2d = np.zeros((2,5))\n",
    "print(zeros1d)\n",
    "print()\n",
    "print(zeros2d)"
   ]
  },
  {
   "cell_type": "markdown",
   "id": "c21966af",
   "metadata": {},
   "source": [
    "## 3) np.ones()\n",
    "\n",
    "np.ones() ---> Similar to zeroes."
   ]
  },
  {
   "cell_type": "code",
   "execution_count": 10,
   "id": "ec2ccd6b",
   "metadata": {},
   "outputs": [
    {
     "name": "stdout",
     "output_type": "stream",
     "text": [
      "[1. 1. 1. 1. 1. 1. 1. 1. 1. 1.]\n",
      "\n",
      "[[1. 1. 1. 1. 1.]\n",
      " [1. 1. 1. 1. 1.]\n",
      " [1. 1. 1. 1. 1.]]\n"
     ]
    }
   ],
   "source": [
    "ones1d  = np.ones(10)\n",
    "ones2d = np.ones((3,5))\n",
    "print(ones1d)\n",
    "print()\n",
    "print(ones2d)"
   ]
  },
  {
   "cell_type": "markdown",
   "id": "f0ad421d",
   "metadata": {},
   "source": [
    "## 4) np.linspace()\n",
    "\n",
    "np.linspace(start,stop,num) ---> Will create an array of elements starting from start to stop evenly divided into num points. Will return decimal values, unlike arange which will return whole numbers."
   ]
  },
  {
   "cell_type": "code",
   "execution_count": 15,
   "id": "fd81c0f9",
   "metadata": {},
   "outputs": [
    {
     "name": "stdout",
     "output_type": "stream",
     "text": [
      "[0.         0.55555556 1.11111111 1.66666667 2.22222222 2.77777778\n",
      " 3.33333333 3.88888889 4.44444444 5.        ]\n"
     ]
    }
   ],
   "source": [
    "lins = np.linspace(0,5,10)\n",
    "print(lins)"
   ]
  },
  {
   "cell_type": "markdown",
   "id": "6815b3b1",
   "metadata": {},
   "source": [
    "## 5) np.eye()\n",
    "\n",
    "np.eye(dim) ---> Will create a 2D identity matrix (I) of the size dim"
   ]
  },
  {
   "cell_type": "code",
   "execution_count": 16,
   "id": "bceb2d39",
   "metadata": {},
   "outputs": [
    {
     "name": "stdout",
     "output_type": "stream",
     "text": [
      "[[1. 0. 0.]\n",
      " [0. 1. 0.]\n",
      " [0. 0. 1.]]\n"
     ]
    }
   ],
   "source": [
    "eye = np.eye(3,3)\n",
    "print(eye)"
   ]
  },
  {
   "cell_type": "markdown",
   "id": "d0624b9e",
   "metadata": {},
   "source": [
    "## 6) np.random.rand()\n",
    "\n",
    "np.random.rand(a) ---> Will create an array of random elements ranging between 0 and 1. <br>\n",
    "np.random.rand((a,b)) ---> Will create an 2D array of random elements ranging between 0 and 1, with a rows and b columns.\n",
    "### NOTE: This will return values from a standard distribution"
   ]
  },
  {
   "cell_type": "code",
   "execution_count": 18,
   "id": "6dee4581",
   "metadata": {
    "scrolled": true
   },
   "outputs": [
    {
     "name": "stdout",
     "output_type": "stream",
     "text": [
      "[0.92303772 0.16703206 0.76772676 0.82903168 0.52683067]\n",
      "\n",
      "[[0.37900021 0.31979574 0.41000168 0.36680269]\n",
      " [0.04818714 0.13513557 0.56349554 0.784635  ]\n",
      " [0.16282856 0.12484691 0.46131091 0.48250289]]\n"
     ]
    }
   ],
   "source": [
    "rand1d = np.random.rand(5)\n",
    "rand2d = np.random.rand(3,4)\n",
    "print(rand1d)\n",
    "print()\n",
    "print(rand2d)\n"
   ]
  },
  {
   "cell_type": "markdown",
   "id": "fae33eb3",
   "metadata": {},
   "source": [
    "## 7) np.random.randn()\n",
    "\n",
    "np.random.randn() ---> Same as np.random.rand() but will create a Gaussian distribution.\n"
   ]
  },
  {
   "cell_type": "code",
   "execution_count": 20,
   "id": "bf66a523",
   "metadata": {
    "scrolled": true
   },
   "outputs": [
    {
     "name": "stdout",
     "output_type": "stream",
     "text": [
      "[ 0.03399763 -0.3838989   0.68006862  0.35286291  1.21989492 -0.12915114\n",
      "  0.09233278  0.15341552  0.12308844 -2.86910217]\n",
      "\n",
      "[[-5.23895518e-01  1.40221679e-01  1.07432062e-03]\n",
      " [-1.19074875e+00 -6.17252125e-01 -9.74500276e-01]\n",
      " [-4.74609019e-01  8.97115333e-01  4.09759476e+00]]\n"
     ]
    }
   ],
   "source": [
    "randn1 = np.random.randn(10)\n",
    "randn2 = np.random.randn(3,3)\n",
    "print(randn1)\n",
    "print()\n",
    "print(randn2)"
   ]
  },
  {
   "cell_type": "markdown",
   "id": "750699a2",
   "metadata": {},
   "source": [
    "#### NOTE: The main difference between a uniform distribution and a Gaussian (also known as a normal) distribution is in the way that values are distributed within the distribution.\n",
    "\n",
    "A uniform distribution is characterized by an equal probability of each value within a certain range occurring. For example, if we consider a die with six sides, each side has an equal probability of 1/6 of showing up after the die is rolled. The probability density function (PDF) of a uniform distribution is constant across the entire range of possible values.\n",
    "\n",
    "In contrast, a Gaussian distribution is characterized by a bell-shaped curve that is symmetric around the mean value. The probability density function of a Gaussian distribution is highest at the mean value and decreases as we move away from the mean value. Many natural phenomena, such as heights or weights of a population, tend to follow a Gaussian distribution.\n",
    "\n",
    "Another important difference between the two distributions is their variance. The variance of a uniform distribution is (b-a)^2/12, where a is the minimum value in the range and b is the maximum value in the range. In contrast, the variance of a Gaussian distribution is a measure of how spread out the values are around the mean value.\n",
    "\n",
    "In summary, a uniform distribution is characterized by a constant probability of each value within a certain range occurring, while a Gaussian distribution is characterized by a bell-shaped curve that is symmetric around the mean value, with values more likely to occur near the mean value.\n",
    "\n",
    "#### NOTE ENDS"
   ]
  },
  {
   "cell_type": "markdown",
   "id": "cd2c2e8e",
   "metadata": {},
   "source": [
    "## 8) np.random.randint()\n",
    "\n",
    "np.random.randint(low,high,n) ---> Will generate n random numbers (whole numbers) from low to high."
   ]
  },
  {
   "cell_type": "code",
   "execution_count": 21,
   "id": "45a01b41",
   "metadata": {
    "scrolled": true
   },
   "outputs": [
    {
     "name": "stdout",
     "output_type": "stream",
     "text": [
      "[2 8 8 4 6]\n",
      "\n",
      "[78 55 10  5 85 18 20 70 51 11]\n"
     ]
    }
   ],
   "source": [
    "randint = np.random.randint(1,10,5)\n",
    "randint2 = np.random.randint(1,100,10)\n",
    "print(randint)\n",
    "print()\n",
    "print(randint2)"
   ]
  },
  {
   "cell_type": "markdown",
   "id": "1cbaf6e4",
   "metadata": {},
   "source": [
    "## 9) np.reshape()\n",
    "\n",
    "Will reshape the array into specified dimensions"
   ]
  },
  {
   "cell_type": "code",
   "execution_count": 22,
   "id": "c8611ccc",
   "metadata": {
    "scrolled": true
   },
   "outputs": [
    {
     "name": "stdout",
     "output_type": "stream",
     "text": [
      "[[ 0.98829597 -0.38097453 -0.60099002  0.104083   -0.65684003 -0.0616938\n",
      "   0.65020051 -0.08492145  0.41123309 -0.25351532]]\n",
      "\n"
     ]
    },
    {
     "data": {
      "text/plain": [
       "array([[ 0.98829597, -0.38097453],\n",
       "       [-0.60099002,  0.104083  ],\n",
       "       [-0.65684003, -0.0616938 ],\n",
       "       [ 0.65020051, -0.08492145],\n",
       "       [ 0.41123309, -0.25351532]])"
      ]
     },
     "execution_count": 22,
     "metadata": {},
     "output_type": "execute_result"
    }
   ],
   "source": [
    "arr = np.random.randn(1,10)\n",
    "print(arr)\n",
    "print()\n",
    "arr.reshape(5,2)"
   ]
  },
  {
   "cell_type": "code",
   "execution_count": null,
   "id": "e45424f1",
   "metadata": {},
   "outputs": [],
   "source": []
  },
  {
   "cell_type": "markdown",
   "id": "cb245846",
   "metadata": {},
   "source": [
    "# These are basic array methods.\n",
    "\n",
    "# Note ends!!"
   ]
  }
 ],
 "metadata": {
  "kernelspec": {
   "display_name": "Python 3 (ipykernel)",
   "language": "python",
   "name": "python3"
  },
  "language_info": {
   "codemirror_mode": {
    "name": "ipython",
    "version": 3
   },
   "file_extension": ".py",
   "mimetype": "text/x-python",
   "name": "python",
   "nbconvert_exporter": "python",
   "pygments_lexer": "ipython3",
   "version": "3.10.9"
  }
 },
 "nbformat": 4,
 "nbformat_minor": 5
}
