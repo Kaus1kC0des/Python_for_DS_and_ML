{
 "cells": [
  {
   "cell_type": "markdown",
   "id": "ad33dc3b",
   "metadata": {},
   "source": [
    "# Pandas Series"
   ]
  },
  {
   "cell_type": "markdown",
   "id": "a8a7b783",
   "metadata": {},
   "source": [
    "A pandas Series is a one-dimensional array. It holds any data type supported in Python and uses labels to locate each data value for retrieval. These labels form the index, and they can be strings or integers. A Series is the main data structure in the pandas framework for storing one-dimensional data"
   ]
  },
  {
   "cell_type": "code",
   "execution_count": 12,
   "id": "27e0c19c",
   "metadata": {},
   "outputs": [],
   "source": [
    "import numpy as np\n",
    "import pandas as pd"
   ]
  },
  {
   "cell_type": "markdown",
   "id": "07a8b9ad",
   "metadata": {},
   "source": [
    "The pandas series takes in a index and the data\n",
    "\n",
    "The index by default unless specified is 0,1,2,3,4,5,....\n",
    "The data type is what we input."
   ]
  },
  {
   "cell_type": "code",
   "execution_count": 5,
   "id": "37dae54f",
   "metadata": {},
   "outputs": [
    {
     "data": {
      "text/plain": [
       "a    10\n",
       "b    12\n",
       "c    14\n",
       "dtype: int64"
      ]
     },
     "execution_count": 5,
     "metadata": {},
     "output_type": "execute_result"
    }
   ],
   "source": [
    "index = ['a','b','c']\n",
    "data = [10,12,14]\n",
    "pd.Series(data=data,index=index)"
   ]
  },
  {
   "cell_type": "code",
   "execution_count": 9,
   "id": "b893b159",
   "metadata": {},
   "outputs": [
    {
     "data": {
      "text/plain": [
       "a    10\n",
       "b    20\n",
       "c    30\n",
       "dtype: int64"
      ]
     },
     "execution_count": 9,
     "metadata": {},
     "output_type": "execute_result"
    }
   ],
   "source": [
    "my_data = {'a':10,'b':20,'c':30}\n",
    "pd.Series(my_data)"
   ]
  },
  {
   "cell_type": "markdown",
   "id": "f876c5be",
   "metadata": {},
   "source": [
    "#### Creating a Series out of a numpy array"
   ]
  },
  {
   "cell_type": "code",
   "execution_count": 14,
   "id": "e5b87510",
   "metadata": {},
   "outputs": [
    {
     "data": {
      "text/plain": [
       "a    10\n",
       "b    12\n",
       "c    14\n",
       "dtype: int64"
      ]
     },
     "execution_count": 14,
     "metadata": {},
     "output_type": "execute_result"
    }
   ],
   "source": [
    "arr = np.array(data)\n",
    "pd.Series(arr,index)"
   ]
  },
  {
   "cell_type": "markdown",
   "id": "db7579c1",
   "metadata": {},
   "source": [
    "### The above examples we have not specified data and index explicitly.\n"
   ]
  },
  {
   "cell_type": "markdown",
   "id": "5221fb11",
   "metadata": {},
   "source": [
    "#### In the below example we have just passed in a dictionary as a parameter into the Series object"
   ]
  },
  {
   "cell_type": "code",
   "execution_count": 16,
   "id": "05c468d9",
   "metadata": {
    "scrolled": false
   },
   "outputs": [
    {
     "data": {
      "text/plain": [
       "a      23\n",
       "b    ball\n",
       "c     cat\n",
       "d     dog\n",
       "dtype: object"
      ]
     },
     "execution_count": 16,
     "metadata": {},
     "output_type": "execute_result"
    }
   ],
   "source": [
    "dicts = {'a':23,'b':'ball','c':'cat','d':'dog'}\n",
    "pd.Series(dicts)"
   ]
  },
  {
   "cell_type": "markdown",
   "id": "e3e14d46",
   "metadata": {},
   "source": [
    "# Grabbing data from a series"
   ]
  },
  {
   "cell_type": "code",
   "execution_count": 31,
   "id": "108b2ee5",
   "metadata": {
    "scrolled": true
   },
   "outputs": [
    {
     "data": {
      "text/plain": [
       "US         1\n",
       "GERMANY    2\n",
       "Russia     3\n",
       "JAPAN      4\n",
       "dtype: int64"
      ]
     },
     "execution_count": 31,
     "metadata": {},
     "output_type": "execute_result"
    }
   ],
   "source": [
    "#ser1 = pd.Series(['Washington DC','Berlin','Moscow','Tokyo'],['US','GERMANY','Russia','JAPAN'])\n",
    "ser1 = pd.Series([1,2,3,4],['US','GERMANY','Russia','JAPAN'])\n",
    "ser1"
   ]
  },
  {
   "cell_type": "code",
   "execution_count": 32,
   "id": "97c6524f",
   "metadata": {
    "scrolled": true
   },
   "outputs": [
    {
     "data": {
      "text/plain": [
       "US         1\n",
       "GERMANY    2\n",
       "ITALY      3\n",
       "JAPAN      4\n",
       "dtype: int64"
      ]
     },
     "execution_count": 32,
     "metadata": {},
     "output_type": "execute_result"
    }
   ],
   "source": [
    "# ser2 = pd.Series(['Washington DC','Berlin','Rome','Tokyo'],['US','GERMANY','ITALY','JAPAN'])\n",
    "ser2 = pd.Series([1,2,3,4],['US','GERMANY','ITALY','JAPAN'])\n",
    "ser2"
   ]
  },
  {
   "cell_type": "code",
   "execution_count": 29,
   "id": "dc2fb90c",
   "metadata": {},
   "outputs": [
    {
     "data": {
      "text/plain": [
       "1"
      ]
     },
     "execution_count": 29,
     "metadata": {},
     "output_type": "execute_result"
    }
   ],
   "source": [
    "ser2[\"US\"]"
   ]
  },
  {
   "cell_type": "markdown",
   "id": "b04f8816",
   "metadata": {},
   "source": [
    "## Adding two Series"
   ]
  },
  {
   "cell_type": "code",
   "execution_count": 33,
   "id": "b0e51bc2",
   "metadata": {},
   "outputs": [
    {
     "data": {
      "text/plain": [
       "GERMANY    4.0\n",
       "ITALY      NaN\n",
       "JAPAN      8.0\n",
       "Russia     NaN\n",
       "US         2.0\n",
       "dtype: float64"
      ]
     },
     "execution_count": 33,
     "metadata": {},
     "output_type": "execute_result"
    }
   ],
   "source": [
    "ser1+ser2\n",
    "#WHere it cannot find common values, it will make it as NaN"
   ]
  }
 ],
 "metadata": {
  "kernelspec": {
   "display_name": "Python 3 (ipykernel)",
   "language": "python",
   "name": "python3"
  },
  "language_info": {
   "codemirror_mode": {
    "name": "ipython",
    "version": 3
   },
   "file_extension": ".py",
   "mimetype": "text/x-python",
   "name": "python",
   "nbconvert_exporter": "python",
   "pygments_lexer": "ipython3",
   "version": "3.10.9"
  }
 },
 "nbformat": 4,
 "nbformat_minor": 5
}
